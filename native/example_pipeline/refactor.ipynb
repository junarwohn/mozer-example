{
 "cells": [
  {
   "cell_type": "code",
   "execution_count": 1,
   "metadata": {},
   "outputs": [],
   "source": [
    "\n",
    "import tvm.relay as relay\n",
    "from tvm.relay.dataflow_pattern import *"
   ]
  },
  {
   "cell_type": "code",
   "execution_count": 5,
   "metadata": {},
   "outputs": [],
   "source": [
    "def quant(node):\n",
    "    cast_to_int8 = relay.cast(\n",
    "        relay.clip(\n",
    "            relay.round(\n",
    "                relay.multiply(node, relay.const(8.0))\n",
    "            ), \n",
    "            a_min=-127.0, a_max=127.0\n",
    "        ),\n",
    "        dtype=\"int8\"\n",
    "    )\n",
    "    result_node = relay.annotation.stop_fusion(cast_to_int8)\n",
    "    # tmp.append(result_node)\n",
    "    return result_node\n",
    "\n",
    "def dequant(node):\n",
    "    cast_to_float32 = relay.divide(\n",
    "        relay.cast(node, dtype='float32'), relay.const(8.0)\n",
    "    )\n",
    "    return cast_to_float32\n",
    "\n",
    "def callback(self, pre, post, node_map):\n",
    "    if self.pattern.match(pre):\n",
    "        if pre in self.match_node:\n",
    "            # print(\"pat 1\")\n",
    "            return self.dequant(self.quant(post))\n",
    "            # return self.dequant(\n",
    "            #         relay.layout_transform(\n",
    "            #         relay.layout_transform(\n",
    "            #             self.quant(post), src_layout='NCHW16c', dst_layout='NCHW'\n",
    "            #         ), src_layout='NCHW', dst_layout='NCHW16c')\n",
    "            #     )\n",
    "    return post"
   ]
  },
  {
   "cell_type": "code",
   "execution_count": 6,
   "metadata": {},
   "outputs": [],
   "source": [
    "inp = relay.var('input')\n"
   ]
  },
  {
   "cell_type": "code",
   "execution_count": 10,
   "metadata": {},
   "outputs": [],
   "source": [
    "a = dequant(quant(inp))\n",
    "a = dequant(quant(a))"
   ]
  },
  {
   "cell_type": "code",
   "execution_count": 11,
   "metadata": {},
   "outputs": [
    {
     "name": "stdout",
     "output_type": "stream",
     "text": [
      "free_var %input;\n",
      "%0 = multiply(%input, 8f);\n",
      "%1 = round(%0);\n",
      "%2 = clip(%1, a_min=-127f, a_max=127f);\n",
      "%3 = cast(%2, dtype=\"int8\");\n",
      "%4 = annotation.stop_fusion(%3);\n",
      "%5 = cast(%4, dtype=\"float32\");\n",
      "%6 = divide(%5, 8f);\n",
      "%7 = multiply(%6, 8f);\n",
      "%8 = round(%7);\n",
      "%9 = clip(%8, a_min=-127f, a_max=127f);\n",
      "%10 = cast(%9, dtype=\"int8\");\n",
      "%11 = annotation.stop_fusion(%10);\n",
      "%12 = cast(%11, dtype=\"float32\");\n",
      "divide(%12, 8f)\n"
     ]
    }
   ],
   "source": [
    "print(a)"
   ]
  },
  {
   "cell_type": "code",
   "execution_count": 43,
   "metadata": {},
   "outputs": [],
   "source": [
    "class QuantizationCallback(DFPatternCallback):\n",
    "    # A callback class to rewrite the matched pattern to a batch_norm op.\n",
    "    def __init__(self, require_type=False):\n",
    "        super().__init__(require_type)\n",
    "        super().__init__(rewrite_once=True)\n",
    "        self.inp = wildcard()\n",
    "        pat_mul = is_op(op_name='multiply')(self.inp, wildcard())\n",
    "        pat_round = is_op(op_name='round')(pat_mul)\n",
    "        pat_clip = is_op(op_name='clip')(pat_round)\n",
    "        pat_cast2i8 = is_op(op_name='cast')(pat_clip)\n",
    "        pat_annot = is_op(op_name='annotation.stop_fusion')(pat_cast2i8)\n",
    "        pat_cast2f32 = is_op(op_name='cast')(pat_annot)\n",
    "        pat_div = is_op(op_name='divide')(pat_cast2f32, wildcard())\n",
    "        pat = pat_div\n",
    "        self.pattern = pat\n",
    "\n",
    "    def quant(self, node):\n",
    "        cast_to_int8 = relay.cast(\n",
    "            relay.clip(\n",
    "                relay.round(\n",
    "                    relay.multiply(node, relay.const(4.0))\n",
    "                ), \n",
    "                a_min=-127.0, a_max=127.0\n",
    "            ),\n",
    "            dtype=\"int8\"\n",
    "        )\n",
    "        result_node = relay.annotation.stop_fusion(cast_to_int8)\n",
    "        # tmp.append(result_node)\n",
    "        return result_node\n",
    "\n",
    "    def dequant(self, node):\n",
    "        cast_to_float32 = relay.divide(\n",
    "            relay.cast(node, dtype='float32'), relay.const(4.0)\n",
    "        )\n",
    "        return cast_to_float32\n",
    "\n",
    "    def callback(self, pre, post, node_map):\n",
    "        inp = node_map[self.inp][0]\n",
    "        if self.pattern.match(pre):\n",
    "            return self.dequant(self.quant(inp))\n",
    "        return pre\n"
   ]
  },
  {
   "cell_type": "code",
   "execution_count": 44,
   "metadata": {},
   "outputs": [
    {
     "name": "stdout",
     "output_type": "stream",
     "text": [
      "1\n",
      "1\n"
     ]
    }
   ],
   "source": [
    "qcb = QuantizationCallback()\n",
    "new_a = rewrite(qcb, a)"
   ]
  },
  {
   "cell_type": "code",
   "execution_count": 45,
   "metadata": {},
   "outputs": [
    {
     "name": "stdout",
     "output_type": "stream",
     "text": [
      "free_var %input;\n",
      "%0 = multiply(%input, 8f);\n",
      "%1 = round(%0);\n",
      "%2 = clip(%1, a_min=-127f, a_max=127f);\n",
      "%3 = cast(%2, dtype=\"int8\");\n",
      "%4 = annotation.stop_fusion(%3);\n",
      "%5 = cast(%4, dtype=\"float32\");\n",
      "%6 = divide(%5, 8f);\n",
      "%7 = multiply(%6, 8f);\n",
      "%8 = round(%7);\n",
      "%9 = clip(%8, a_min=-127f, a_max=127f);\n",
      "%10 = cast(%9, dtype=\"int8\");\n",
      "%11 = annotation.stop_fusion(%10);\n",
      "%12 = cast(%11, dtype=\"float32\");\n",
      "divide(%12, 8f)\n"
     ]
    }
   ],
   "source": [
    "print(a)"
   ]
  },
  {
   "cell_type": "code",
   "execution_count": 46,
   "metadata": {},
   "outputs": [
    {
     "name": "stdout",
     "output_type": "stream",
     "text": [
      "free_var %input;\n",
      "%0 = multiply(%input, 4f);\n",
      "%1 = round(%0);\n",
      "%2 = clip(%1, a_min=-127f, a_max=127f);\n",
      "%3 = cast(%2, dtype=\"int8\");\n",
      "%4 = annotation.stop_fusion(%3);\n",
      "%5 = cast(%4, dtype=\"float32\");\n",
      "%6 = divide(%5, 4f);\n",
      "%7 = multiply(%6, 4f);\n",
      "%8 = round(%7);\n",
      "%9 = clip(%8, a_min=-127f, a_max=127f);\n",
      "%10 = cast(%9, dtype=\"int8\");\n",
      "%11 = annotation.stop_fusion(%10);\n",
      "%12 = cast(%11, dtype=\"float32\");\n",
      "divide(%12, 4f)\n"
     ]
    }
   ],
   "source": [
    "print(new_a)"
   ]
  },
  {
   "cell_type": "code",
   "execution_count": null,
   "metadata": {},
   "outputs": [],
   "source": []
  }
 ],
 "metadata": {
  "kernelspec": {
   "display_name": "Python 3.8.10 64-bit",
   "language": "python",
   "name": "python3"
  },
  "language_info": {
   "codemirror_mode": {
    "name": "ipython",
    "version": 3
   },
   "file_extension": ".py",
   "mimetype": "text/x-python",
   "name": "python",
   "nbconvert_exporter": "python",
   "pygments_lexer": "ipython3",
   "version": "3.8.10"
  },
  "orig_nbformat": 4,
  "vscode": {
   "interpreter": {
    "hash": "916dbcbb3f70747c44a77c7bcd40155683ae19c65e1c03b4aa3499c5328201f1"
   }
  }
 },
 "nbformat": 4,
 "nbformat_minor": 2
}
